{
 "cells": [
  {
   "cell_type": "code",
   "execution_count": 1,
   "metadata": {},
   "outputs": [],
   "source": [
    "import sys, os\n",
    "import numpy as np\n",
    "import matplotlib as mpl\n",
    "import matplotlib.pyplot as plt\n",
    "\n",
    "sys.path.append('../AxiScan/')\n",
    "import dataGen\n",
    "import LL_Scan\n",
    "import pymultinest"
   ]
  },
  {
   "cell_type": "code",
   "execution_count": 6,
   "metadata": {},
   "outputs": [],
   "source": [
    "########################\n",
    "###    Seed Values   ###\n",
    "########################\n",
    "c = 299798.452\n",
    "\n",
    "# Physics Parameters\n",
    "ma = 5.5e5*2*np.pi\n",
    "A = 8000.0\n",
    "PSDback= 163539.36\n",
    "\n",
    "# Bulk SHM Parameters\n",
    "v0_Halo = 220.0\n",
    "vDotMag_Halo = 232.36\n",
    "alpha_Halo = .49\n",
    "tbar_Halo = 72.40\n",
    "\n",
    "# Sagitarrius Stream Parameters\n",
    "v0_Stream = 10.0\n",
    "vDotMag_Stream = 418.815\n",
    "alpha_Stream = .65903\n",
    "tbar_Stream = 279.51\n",
    "fracStream = 0.0 #0.05\n",
    "\n",
    "# Data Output Size\n",
    "freqs = np.linspace(.99998, 1.00002, 10000)*5.5e5\n",
    "PSD_Data = np.zeros((365, len(freqs)))"
   ]
  },
  {
   "cell_type": "code",
   "execution_count": 3,
   "metadata": {},
   "outputs": [],
   "source": [
    "# Instantiate the data generator\n",
    "generator = dataGen.Generator(ma, A, PSDback, v0_Halo, vDotMag_Halo, alpha_Halo, tbar_Halo,\n",
    "                             v0_Stream, vDotMag_Stream, alpha_Stream, tbar_Stream, fracStream, freqs)\n",
    "\n",
    "# Fill the PSD_Data array\n",
    "for i in range(365):\n",
    "    PSD_Data[i] = np.array(generator.makePSDFast(i))\n",
    "\n",
    "# Average over the days in the PSD_Data array for the coarse scan\n",
    "Stacked_PSD_Data = np.mean(PSD_Data, axis = 0)"
   ]
  },
  {
   "cell_type": "code",
   "execution_count": 4,
   "metadata": {},
   "outputs": [],
   "source": [
    "# Construct the test set of masses\n",
    "N_testMass = int(np.log(freqs[-1] / freqs[0])  / np.log(1. + v0_Halo**2. / 2. / c**2.))\n",
    "mass_TestSet = freqs[0]*(1. + v0_Halo**2. / 2. / c**2.)**np.arange(N_testMass) * 2*np.pi\n",
    "\n",
    "# Construct the test set of A_Vals\n",
    "A_TestSet = np.linspace(.5, 1.5, 20)*A"
   ]
  },
  {
   "cell_type": "code",
   "execution_count": 5,
   "metadata": {},
   "outputs": [],
   "source": [
    "# A_Vals to test in Multinest Scan\n",
    "theta_min = [0.0]\n",
    "theta_max = [20000.0]\n",
    "\n",
    "theta_interval = list(np.array(theta_max) - np.array(theta_min))\n",
    "n_params = len(theta_interval)\n",
    "\n",
    "def prior_cube(cube, ndim=1, nparams=1):\n",
    "    \"\"\" Cube of priors - in the format required by MultiNest\n",
    "    \"\"\"\n",
    "\n",
    "    for i in range(ndim):\n",
    "        cube[i] = cube[i] * theta_interval[i] + theta_min[i]\n",
    "    return cube"
   ]
  },
  {
   "cell_type": "code",
   "execution_count": null,
   "metadata": {},
   "outputs": [],
   "source": []
  }
 ],
 "metadata": {
  "kernelspec": {
   "display_name": "Python 2",
   "language": "python",
   "name": "python2"
  },
  "language_info": {
   "codemirror_mode": {
    "name": "ipython",
    "version": 2
   },
   "file_extension": ".py",
   "mimetype": "text/x-python",
   "name": "python",
   "nbconvert_exporter": "python",
   "pygments_lexer": "ipython2",
   "version": "2.7.11"
  }
 },
 "nbformat": 4,
 "nbformat_minor": 2
}
