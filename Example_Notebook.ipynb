{
 "cells": [
  {
   "cell_type": "code",
   "execution_count": 9,
   "metadata": {},
   "outputs": [],
   "source": [
    "import numpy as np\n",
    "import matplotlib as mpl\n",
    "import matplotlib.pyplot as plt\n",
    "import sys, os\n",
    "\n",
    "sys.path.append('./Data_Generation/')\n",
    "from distribution_features import get_vObs, f_SHM, f_GF\n",
    "\n",
    "sys.path.append('./Coarse_Scan/')\n",
    "import coarseScanner"
   ]
  },
  {
   "cell_type": "code",
   "execution_count": 32,
   "metadata": {},
   "outputs": [],
   "source": [
    "c = 299792.458\n",
    "\n",
    "ma = 5.5e5*2*np.pi\n",
    "A = 5000.0\n",
    "PSDback= .1 #163539.36\n",
    "\n",
    "v0_Halo = 220.0\n",
    "vDotMag_Halo = 232.36\n",
    "alpha_Halo =  .49\n",
    "tbar_Halo = 72.40\n",
    "\n",
    "v0_Stream = 10.0\n",
    "vDotMag_Stream = 418.815\n",
    "alpha_Stream = 0.65903\n",
    "tbar_Stream = 279.51\n",
    "fracStream = 0.05\n",
    "\n",
    "freqs = np.linspace(.99998, 1.00002, 10000)*5.5e5\n",
    "num_stacked = 10*86400.0 * (freqs[1] - freqs[0])\n",
    "includeGF = False"
   ]
  },
  {
   "cell_type": "code",
   "execution_count": 33,
   "metadata": {},
   "outputs": [],
   "source": [
    "def get_PSD():\n",
    "    PSD  = np.zeros((365, len(freqs)))\n",
    "    \n",
    "    for iDay in range(365):\n",
    "\n",
    "        vObs_Halo = get_vObs(vDotMag_Halo, alpha_Halo, tbar_Halo, iDay)\n",
    "        vObs_Stream = get_vObs(vDotMag_Stream, alpha_Stream, tbar_Stream, iDay)\n",
    "\n",
    "        for iFrq in range(len(freqs)):\n",
    "            mean = PSDback        \n",
    "\n",
    "            freq = freqs[iFrq]\n",
    "            vSq = 2.0*(2.0*np.pi*freq-ma)/ma\n",
    "\n",
    "            if vSq > 0:\n",
    "                v = np.sqrt(vSq)\n",
    "                mean += A * np.pi *((1.0-fracStream)*f_SHM(v, v0_Halo/c, vObs_Halo/c) + fracStream*f_SHM(v, v0_Stream, vObs_Stream))/ ma / v           \n",
    "\n",
    "                if includeGF:\n",
    "                    mean += A * np.pi *((1.0-fracStream)*f_GF(v, v0_Halo, iDay) + fracStream*f_GF(v, v0_Stream, iDay))/ ma / v\n",
    "\n",
    "            PSD[iDay, iFrq] = np.random.gamma(num_stacked, mean)/num_stacked\n",
    "    \n",
    "    return PSD\n"
   ]
  },
  {
   "cell_type": "code",
   "execution_count": 34,
   "metadata": {},
   "outputs": [],
   "source": [
    "Unstacked_PSD = get_PSD()\n",
    "stacked_PSD = np.mean(Unstacked_PSD, axis = 0)"
   ]
  },
  {
   "cell_type": "code",
   "execution_count": 35,
   "metadata": {},
   "outputs": [
    {
     "data": {
      "image/png": "[encoded data removed]",
      "text/plain": [
       "<matplotlib.figure.Figure at 0x2b573ecfe090>"
      ]
     },
     "metadata": {},
     "output_type": "display_data"
    }
   ],
   "source": [
    "plt.plot(freqs, stacked_PSD)\n",
    "plt.show()"
   ]
  },
  {
   "cell_type": "code",
   "execution_count": 57,
   "metadata": {},
   "outputs": [],
   "source": [
    "mass_TestSet = np.linspace(.9999, 1.00001, 10)*ma\n",
    "A_TestSet = np.linspace(.5, 1.5, 400)*A"
   ]
  },
  {
   "cell_type": "code",
   "execution_count": 59,
   "metadata": {},
   "outputs": [
    {
     "name": "stdout",
     "output_type": "stream",
     "text": [
      "1 of 10\n",
      "2 of 10\n",
      "3 of 10\n",
      "4 of 10\n",
      "5 of 10\n",
      "6 of 10\n",
      "7 of 10\n",
      "8 of 10\n",
      "9 of 10\n",
      "10 of 10\n"
     ]
    }
   ],
   "source": [
    "TS = np.array(coarseScanner.TS_Scan(stacked_PSD, freqs, mass_TestSet, A_TestSet, PSDback, v0_Halo, vDotMag_Halo, num_stacked*365))"
   ]
  },
  {
   "cell_type": "code",
   "execution_count": 54,
   "metadata": {},
   "outputs": [
    {
     "data": {
      "text/plain": [
       "4893.4837092731832"
      ]
     },
     "execution_count": 54,
     "metadata": {},
     "output_type": "execute_result"
    }
   ],
   "source": [
    "A_TestSet[191]"
   ]
  },
  {
   "cell_type": "code",
   "execution_count": 48,
   "metadata": {},
   "outputs": [
    {
     "data": {
      "text/plain": [
       "5064.1025641025635"
      ]
     },
     "execution_count": 48,
     "metadata": {},
     "output_type": "execute_result"
    }
   ],
   "source": [
    "A_TestSet[20]"
   ]
  },
  {
   "cell_type": "code",
   "execution_count": 44,
   "metadata": {},
   "outputs": [
    {
     "data": {
      "text/plain": [
       "5000.0"
      ]
     },
     "execution_count": 44,
     "metadata": {},
     "output_type": "execute_result"
    }
   ],
   "source": [
    "A"
   ]
  },
  {
   "cell_type": "code",
   "execution_count": null,
   "metadata": {},
   "outputs": [],
   "source": []
  }
 ],
 "metadata": {
  "kernelspec": {
   "display_name": "Python 2",
   "language": "python",
   "name": "python2"
  },
  "language_info": {
   "codemirror_mode": {
    "name": "ipython",
    "version": 2
   },
   "file_extension": ".py",
   "mimetype": "text/x-python",
   "name": "python",
   "nbconvert_exporter": "python",
   "pygments_lexer": "ipython2",
   "version": "2.7.11"
  }
 },
 "nbformat": 4,
 "nbformat_minor": 2
}
